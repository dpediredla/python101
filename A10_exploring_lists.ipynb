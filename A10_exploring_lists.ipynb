{
  "nbformat": 4,
  "nbformat_minor": 0,
  "metadata": {
    "colab": {
      "provenance": [],
      "toc_visible": true,
      "include_colab_link": true
    },
    "kernelspec": {
      "name": "python3",
      "display_name": "Python 3"
    },
    "language_info": {
      "name": "python"
    }
  },
  "cells": [
    {
      "cell_type": "markdown",
      "metadata": {
        "id": "view-in-github",
        "colab_type": "text"
      },
      "source": [
        "<a href=\"https://colab.research.google.com/github/dpediredla/python101/blob/main/A10_exploring_lists.ipynb\" target=\"_parent\"><img src=\"https://colab.research.google.com/assets/colab-badge.svg\" alt=\"Open In Colab\"/></a>"
      ]
    },
    {
      "cell_type": "markdown",
      "source": [
        ";# Lists\n"
      ],
      "metadata": {
        "id": "HpIJY9lvgjMV"
      }
    },
    {
      "cell_type": "markdown",
      "source": [
        "# New Section"
      ],
      "metadata": {
        "id": "1Kj9k6PA2YBT"
      }
    },
    {
      "cell_type": "markdown",
      "source": [
        "* https://www.w3schools.com/python/python_ref_list.asp  (Python List Methods)\n",
        "* https://www.w3schools.com/python/python_ref_functions.asp (Python Built-in Functions)"
      ],
      "metadata": {
        "id": "imH1nSNBUuG_"
      }
    },
    {
      "cell_type": "code",
      "source": [
        "#@title Lists: An Introduction\n",
        "\n",
        "#Data Type\n",
        "#List Type\n",
        "list_1 = [10, 20, 30.0, -40,\"Fifty\", False]\n",
        "print(\"Print the list\",list_1)\n",
        "\n",
        "print(\"Print the Type\", type(list_1))"
      ],
      "metadata": {
        "id": "iE_KtgxUn4at",
        "colab": {
          "base_uri": "https://localhost:8080/"
        },
        "outputId": "64315824-413d-4498-d806-6686831030e1"
      },
      "execution_count": 5,
      "outputs": [
        {
          "output_type": "stream",
          "name": "stdout",
          "text": [
            "Print the list [10, 20, 30.0, -40, 'Fifty', False]\n",
            "Print the Type <class 'list'>\n"
          ]
        }
      ]
    },
    {
      "cell_type": "code",
      "source": [
        "#@title 1.Creating an empty list\n",
        "list_2 = []\n",
        "print(\"Print the empty List\",list_2)"
      ],
      "metadata": {
        "id": "4GnRakGpUz8V",
        "colab": {
          "base_uri": "https://localhost:8080/"
        },
        "outputId": "3790779c-212b-4549-e593-b8686856440a"
      },
      "execution_count": 7,
      "outputs": [
        {
          "output_type": "stream",
          "name": "stdout",
          "text": [
            "Print the empty List []\n"
          ]
        }
      ]
    },
    {
      "cell_type": "code",
      "source": [
        "#@title 2.Creating a list with some elements\n",
        "list_3 = [98,104,117,130]\n",
        "print(\"Print the List\",list_3)"
      ],
      "metadata": {
        "id": "uCm9yPLDU0O0",
        "colab": {
          "base_uri": "https://localhost:8080/"
        },
        "outputId": "63be7fde-973a-433b-e3a9-1c390f8a82d5"
      },
      "execution_count": 8,
      "outputs": [
        {
          "output_type": "stream",
          "name": "stdout",
          "text": [
            "Print the List [98, 104, 117, 130]\n"
          ]
        }
      ]
    },
    {
      "cell_type": "code",
      "source": [
        "#@title 3.Adding elements at the end\n",
        "\n",
        "list_4 = [10,20,30,40]\n",
        "print(\"Print the List\",list_4)\n",
        "list_4.append(50)\n",
        "list_4.append(\"Dhruv\")\n",
        "print(\"Print the new List\",list_4)"
      ],
      "metadata": {
        "id": "rEpmqm7MU0Si",
        "colab": {
          "base_uri": "https://localhost:8080/"
        },
        "outputId": "9b3eba08-ba25-47f2-9ad4-f217d5e0f32e"
      },
      "execution_count": 11,
      "outputs": [
        {
          "output_type": "stream",
          "name": "stdout",
          "text": [
            "Print the List [10, 20, 30, 40]\n",
            "Print the new List [10, 20, 30, 40, 50, 'Dhruv']\n"
          ]
        }
      ]
    },
    {
      "cell_type": "code",
      "source": [
        "#@title 4.Accessing an element (positive index)\n",
        "# also known as \"Reading an element\"\n",
        "# also known as \"Setting an element\"\n",
        "\n",
        "list_5 = [10,20,30,40,50,\"Dhruv\",70,80]\n",
        "print(\"Print the List\",list_5)\n",
        "first = list_5[0]\n",
        "print(\"Print the first element\",first)\n",
        "six = list_5[5]\n",
        "print(\"Print the sixth element\",six)"
      ],
      "metadata": {
        "id": "AMTpZsLMU0Vr",
        "colab": {
          "base_uri": "https://localhost:8080/"
        },
        "outputId": "23879a72-c1cc-4325-f5be-7bf4406247c8"
      },
      "execution_count": 15,
      "outputs": [
        {
          "output_type": "stream",
          "name": "stdout",
          "text": [
            "Print the List [10, 20, 30, 40, 50, 'Dhruv', 70, 80]\n",
            "Print the first element 10\n",
            "Print the sixth element Dhruv\n"
          ]
        }
      ]
    },
    {
      "cell_type": "code",
      "source": [
        "#@title 5.Accessing an element (through Negative Indexing)\n",
        "# also known as \"Reading an element\"\n",
        "# also known as \"Setting an element\"\n",
        "\n",
        "list_6 = [10,20,30,40,50,\"Dhruv\",70,80,90,100,110,120,130,140,150,\"pole\",160,170,180,\"star\"]\n",
        "print(\"Print the List\",list_6)\n",
        "last = list_6[-1]\n",
        "print(\"Print the last element:\",last)\n",
        "fifth_from_last = list_6[-5]\n",
        "print(\"Print the fifth_from_last element:\",fifth_from_last)"
      ],
      "metadata": {
        "id": "VWaPKymnXdtx",
        "colab": {
          "base_uri": "https://localhost:8080/"
        },
        "outputId": "4cdc7eda-45b8-403a-8754-efd5ba7412ff"
      },
      "execution_count": 17,
      "outputs": [
        {
          "output_type": "stream",
          "name": "stdout",
          "text": [
            "Print the List [10, 20, 30, 40, 50, 'Dhruv', 70, 80, 90, 100, 110, 120, 130, 140, 150, 'pole', 160, 170, 180, 'star']\n",
            "Print the last element: star\n",
            "Print the fifth_from_last element: pole\n"
          ]
        }
      ]
    },
    {
      "cell_type": "code",
      "source": [
        "#@title 6.Adding an element at the front of the list\n",
        "\n",
        "list_7 = [\"Dhruv\",\"pole\",\"star\"]\n",
        "print(\"Print the List\",list_7)\n",
        "\n",
        "#Add numbers in the front of the list\n",
        "list_7.insert(0,10)\n",
        "print(\"Print the List\",list_7)\n",
        "list_7.insert(0,0)\n",
        "print(\"Print the List:\",list_7)\n"
      ],
      "metadata": {
        "id": "dSKr5_20U0YS",
        "colab": {
          "base_uri": "https://localhost:8080/"
        },
        "outputId": "d06bf6e4-6a71-42bf-c3ea-012ad9b28725"
      },
      "execution_count": 22,
      "outputs": [
        {
          "output_type": "stream",
          "name": "stdout",
          "text": [
            "Print the List ['Dhruv', 'pole', 'star']\n",
            "Print the List [10, 'Dhruv', 'pole', 'star']\n",
            "Print the List: [0, 10, 'Dhruv', 'pole', 'star']\n"
          ]
        }
      ]
    },
    {
      "cell_type": "code",
      "source": [
        "#@title 7.Adding an element anywhere (at a specific index) \n",
        "\n",
        "list_8 = [\"Dhruv\",\"pole\",\"star\"]\n",
        "\n",
        "#Add numbers anywhere in the list\n",
        "print(\"Print the List:\",list_8)\n",
        "list_8.insert(0,10)\n",
        "print(\"Print the List:\",list_8)\n",
        "list_8.insert(2,20)\n",
        "print(\"Print the List:\",list_8)\n",
        "list_8.insert(4,30)\n",
        "print(\"Print the List:\",list_8)"
      ],
      "metadata": {
        "id": "jvMJf2-2U0bM",
        "colab": {
          "base_uri": "https://localhost:8080/"
        },
        "outputId": "c2c3dd56-6557-40c4-ba8e-fbbf3b79dd5d"
      },
      "execution_count": 21,
      "outputs": [
        {
          "output_type": "stream",
          "name": "stdout",
          "text": [
            "Print the List: ['Dhruv', 'pole', 'star']\n",
            "Print the List: [10, 'Dhruv', 'pole', 'star']\n",
            "Print the List: [10, 'Dhruv', 20, 'pole', 'star']\n",
            "Print the List: [10, 'Dhruv', 20, 'pole', 30, 'star']\n"
          ]
        }
      ]
    },
    {
      "cell_type": "code",
      "source": [
        "#@title 8.Updating (or Replacing) an element\n",
        "\n",
        "list_9 = [\"Dhruv\",\"pole\",\"star\"]\n",
        "\n",
        "print(\"Print the List:\",list_9)\n",
        "\n",
        "#Replace an element\n",
        "list_9[0] = \"Lucky\"\n",
        "print(\"Print the List:\",list_9)\n",
        "list_9[1] = \"super\"\n",
        "print(\"Print the List:\",list_9)\n"
      ],
      "metadata": {
        "id": "DUG9xlraaTlO",
        "colab": {
          "base_uri": "https://localhost:8080/"
        },
        "outputId": "0baa52c8-0c1a-49c5-ef41-d3bb2b3f4e2a"
      },
      "execution_count": 24,
      "outputs": [
        {
          "output_type": "stream",
          "name": "stdout",
          "text": [
            "Print the List: ['Dhruv', 'pole', 'star']\n",
            "Print the List: ['Lucky', 'pole', 'star']\n",
            "Print the List: ['Lucky', 'super', 'star']\n"
          ]
        }
      ]
    },
    {
      "cell_type": "code",
      "source": [
        "#@title 9.Looping through the list (just for READING)\n",
        "\n",
        "list_10 = [10,20,30,40]\n",
        "print(\"Print the List\",list_10)\n",
        "\n",
        "#loop through and print the list\n",
        "for x in list_10:\n",
        "  print(x)\n",
        "\n",
        "#Sum of the numbers in the list\n",
        "total_num = 0\n",
        "for x in list_10:\n",
        "  total_num = total_num+x\n",
        "\n",
        "print(\"Print the sum numbers in the list\",total_num)"
      ],
      "metadata": {
        "id": "F6P3NNhFU0j8",
        "colab": {
          "base_uri": "https://localhost:8080/"
        },
        "outputId": "41d3e029-0284-4e98-9877-f81f2e7d0892"
      },
      "execution_count": 27,
      "outputs": [
        {
          "output_type": "stream",
          "name": "stdout",
          "text": [
            "Print the List [10, 20, 30, 40]\n",
            "10\n",
            "20\n",
            "30\n",
            "40\n",
            "Print the sum numbers in the list 100\n"
          ]
        }
      ]
    },
    {
      "cell_type": "code",
      "source": [
        "#@title 10.Looping through the list (for UPDATING)\n",
        "\n",
        "list_11 = [10,20,30,40]\n",
        "print(\"Print the List\",list_11)\n",
        "\n",
        "#Length of the list\n",
        "list_11_len = len(list_11)\n",
        "\n",
        "#Loop and update the elements\n",
        "\n",
        "for x in range(list_11_len):\n",
        "  current_element = list_11[x]\n",
        "  list_11[x] = current_element - 5\n",
        "\n",
        "print(\"Print the updated List\",list_11)"
      ],
      "metadata": {
        "id": "QFJmGzYOU0nG",
        "colab": {
          "base_uri": "https://localhost:8080/"
        },
        "outputId": "9ecd2d17-092f-45a0-c8ab-7e6f97ee180e"
      },
      "execution_count": 32,
      "outputs": [
        {
          "output_type": "stream",
          "name": "stdout",
          "text": [
            "Print the List [10, 20, 30, 40]\n",
            "Print the updated List [5, 15, 25, 35]\n"
          ]
        }
      ]
    },
    {
      "cell_type": "code",
      "source": [
        "#@title 11.Common Operations: Find the length of the list\n",
        "# Find the number of elements in the list\n",
        "\n",
        "list_12 = [10,20,30,40,50,60,70,80]\n",
        "print(\"Print the List\",list_12)\n",
        "\n",
        "#Length of the List\n",
        "list_12_len = len(list_12)\n",
        "print(\"Print the Length of the List\",list_12_len)"
      ],
      "metadata": {
        "id": "_OiuJHIeU0p6",
        "colab": {
          "base_uri": "https://localhost:8080/"
        },
        "outputId": "dedd8b3d-031a-4e80-c7ee-c809fcbeec5a"
      },
      "execution_count": 34,
      "outputs": [
        {
          "output_type": "stream",
          "name": "stdout",
          "text": [
            "Print the List [10, 20, 30, 40, 50, 60, 70, 80]\n",
            "Print the Length of the List 8\n"
          ]
        }
      ]
    },
    {
      "cell_type": "code",
      "source": [
        "#@title 12.Common Operations: Find the maximum in the list\n",
        "\n",
        "list_13 = [10,20,30,40,50,60,70,80]\n",
        "print(\"Print the List\",list_13)\n",
        "\n",
        "#Max in the List\n",
        "max_in_list_13=max(list_13)\n",
        "print(\"Print the max number in the list\",max_in_list_13)\n"
      ],
      "metadata": {
        "id": "IhGhO_XxU0tB",
        "colab": {
          "base_uri": "https://localhost:8080/"
        },
        "outputId": "8f33590f-3f4c-47af-9c51-c562a2a1ffb6"
      },
      "execution_count": 39,
      "outputs": [
        {
          "output_type": "stream",
          "name": "stdout",
          "text": [
            "Print the List [10, 20, 30, 40, 50, 60, 70, 80]\n",
            "Print the max number in the list 80\n"
          ]
        }
      ]
    },
    {
      "cell_type": "code",
      "source": [
        "#@title 13.Common Operations: Find the minimum in the list\n",
        "\n",
        "list_14 = [10,20,30,40,50,60,70,80]\n",
        "print(\"Print the List\",list_14)\n",
        "\n",
        "#Min in the List\n",
        "min_in_list_14=min(list_14)\n",
        "print(\"Print the min number in the list: \",min_in_list_14)"
      ],
      "metadata": {
        "id": "D4vmqhUHYaVC",
        "colab": {
          "base_uri": "https://localhost:8080/"
        },
        "outputId": "fe378bd4-ae3f-4dee-9437-9618fbb704d2"
      },
      "execution_count": 42,
      "outputs": [
        {
          "output_type": "stream",
          "name": "stdout",
          "text": [
            "Print the List [10, 20, 30, 40, 50, 60, 70, 80]\n",
            "Print the min number in the list:  10\n"
          ]
        }
      ]
    },
    {
      "cell_type": "code",
      "source": [
        "#@title 14.Common Operations: Find the sum of elements in the list\n",
        "\n",
        "list_15 = [10,20,30,40,50,60,70,80]\n",
        "print(\"Print the List\",list_15)\n",
        "\n",
        "#Sum of the numbers in the list\n",
        "total_num = 0\n",
        "for x in list_15:\n",
        "  total_num = total_num+x\n",
        "\n",
        "print(\"Print the sum numbers in the list: \",total_num)"
      ],
      "metadata": {
        "id": "ULNy2XkGYd5g",
        "colab": {
          "base_uri": "https://localhost:8080/"
        },
        "outputId": "c7acf154-d018-418e-ec41-ea3aea171448"
      },
      "execution_count": 43,
      "outputs": [
        {
          "output_type": "stream",
          "name": "stdout",
          "text": [
            "Print the List [10, 20, 30, 40, 50, 60, 70, 80]\n",
            "Print the sum numbers in the list:  360\n"
          ]
        }
      ]
    },
    {
      "cell_type": "code",
      "source": [
        "#@title 14.Removing an element by value\n",
        "\n",
        "list_15 = [10,20,30,40,50,60,70,80]\n",
        "print(\"Print the List\",list_15)\n",
        "\n",
        "#Removing the element by value\n",
        "list_15.remove(40)\n",
        "print(\"Print the new List\",list_15)\n",
        "list_15.remove(20)\n",
        "print(\"Print the new List\",list_15)\n",
        "list_15.remove(60)\n",
        "print(\"Print the new List\",list_15)\n",
        "list_15.remove(80)\n",
        "print(\"Print the new List\",list_15)"
      ],
      "metadata": {
        "id": "8UfCeQSpYwFB",
        "colab": {
          "base_uri": "https://localhost:8080/"
        },
        "outputId": "ecf90de6-0ee8-4278-da19-0c28dc4cc7eb"
      },
      "execution_count": 45,
      "outputs": [
        {
          "output_type": "stream",
          "name": "stdout",
          "text": [
            "Print the List [10, 20, 30, 40, 50, 60, 70, 80]\n",
            "Print the new List [10, 20, 30, 50, 60, 70, 80]\n",
            "Print the new List [10, 30, 50, 60, 70, 80]\n",
            "Print the new List [10, 30, 50, 70, 80]\n",
            "Print the new List [10, 30, 50, 70]\n"
          ]
        }
      ]
    },
    {
      "cell_type": "code",
      "source": [
        "#@title 15.Removing the last element in the list\n",
        "\n",
        "list_16 = [10,20,30,40,50,60,70,80]\n",
        "print(\"Print the List\",list_16)\n",
        "\n",
        "#Remove the last element\n",
        "list_16.pop()\n",
        "print(\"Print the new List\",list_16)\n",
        "len_list_16 = len(list_16)\n",
        "list_16.pop(len_list_16 -1)\n",
        "print(\"Print the new List\",list_16)\n",
        "list_16.pop()\n",
        "print(\"Print the new List\",list_16)\n"
      ],
      "metadata": {
        "id": "8pLgwYe0YwOY",
        "colab": {
          "base_uri": "https://localhost:8080/"
        },
        "outputId": "8a71c4b8-4909-4cab-c527-03116b7ba3b4"
      },
      "execution_count": 54,
      "outputs": [
        {
          "output_type": "stream",
          "name": "stdout",
          "text": [
            "Print the List [10, 20, 30, 40, 50, 60, 70, 80]\n",
            "Print the new List [10, 20, 30, 40, 50, 60, 70]\n",
            "Print the new List [10, 20, 30, 40, 50, 60]\n",
            "Print the new List [10, 20, 30, 40, 50]\n"
          ]
        }
      ]
    },
    {
      "cell_type": "code",
      "source": [
        "#@title 16.Removing an element at a given index\n",
        "\n",
        "list_17 = [10,20,30,40,50,60,70,80]\n",
        "print(\"Print the List\",list_17)\n",
        "\n",
        "#Removing the element at a given index\n",
        "len_list_17 = len(list_17)\n",
        "list_17.pop(len_list_17 - 5)\n",
        "print(\"Print the new List\",list_17)\n",
        "len_list_17 = len(list_17)\n",
        "list_17.pop(len_list_17 - 2)\n",
        "print(\"Print the new List\",list_17)\n",
        "list_17.pop(0)\n",
        "print(\"Print the new List\",list_17)\n",
        "list_17.pop(1)\n",
        "print(\"Print the new List\",list_17)"
      ],
      "metadata": {
        "id": "2jpc-7ppYwb_",
        "colab": {
          "base_uri": "https://localhost:8080/"
        },
        "outputId": "519a0440-78c5-40e0-aac8-d861d34a557a"
      },
      "execution_count": 55,
      "outputs": [
        {
          "output_type": "stream",
          "name": "stdout",
          "text": [
            "Print the List [10, 20, 30, 40, 50, 60, 70, 80]\n",
            "Print the new List [10, 20, 30, 50, 60, 70, 80]\n",
            "Print the new List [10, 20, 30, 50, 60, 80]\n",
            "Print the new List [20, 30, 50, 60, 80]\n",
            "Print the new List [20, 50, 60, 80]\n"
          ]
        }
      ]
    },
    {
      "cell_type": "code",
      "source": [
        "#@title 17.Extending a list\n",
        "#(Adding several elements to one list)\n",
        "\n",
        "\n",
        "list_18 = [10,20,30,40,50,60,70,80]\n",
        "print(\"Print the List\",list_18)\n",
        "\n",
        "#Extending the list\n",
        "list_18_1 = [90,100]\n",
        "list_18.extend(list_18_1)\n",
        "print(\"Print the extended List\",list_18)\n",
        "\n"
      ],
      "metadata": {
        "id": "f9CutvMNYwn6",
        "colab": {
          "base_uri": "https://localhost:8080/"
        },
        "outputId": "ba4a5218-92e6-4425-f498-31c2bd11da1f"
      },
      "execution_count": 57,
      "outputs": [
        {
          "output_type": "stream",
          "name": "stdout",
          "text": [
            "Print the List [10, 20, 30, 40, 50, 60, 70, 80]\n",
            "Print the extended List [10, 20, 30, 40, 50, 60, 70, 80, 90, 100]\n"
          ]
        }
      ]
    },
    {
      "cell_type": "code",
      "source": [
        "#@title 18.Search for an element. What is the index?\n",
        "\n",
        "\n",
        "list_19 = [10,20,30,40,50,60,70,80]\n",
        "print(\"Print the List\",list_19)\n",
        "\n",
        "#find the index\n",
        "x = list_19.index(20)\n",
        "print(\"Print the index of 20: \",x)\n",
        "x = list_19.index(60)\n",
        "print(\"Print the index of 60: \",x)"
      ],
      "metadata": {
        "id": "S7JBtxoufmw0",
        "colab": {
          "base_uri": "https://localhost:8080/"
        },
        "outputId": "046ce94d-8a6c-43f4-e268-bf5a39c2cf21"
      },
      "execution_count": 61,
      "outputs": [
        {
          "output_type": "stream",
          "name": "stdout",
          "text": [
            "Print the List [10, 20, 30, 40, 50, 60, 70, 80]\n",
            "Print the index of 20:  1\n",
            "Print the index of 60:  5\n"
          ]
        }
      ]
    },
    {
      "cell_type": "code",
      "source": [
        "#@title 19.Count the number of times an element is appearing\n",
        "\n",
        "list_20 = [10,20,10,20,10,20,50,20]\n",
        "print(\"Print the List\",list_20)\n",
        "\n",
        "x = list_20.count(20)\n",
        "print(\"Print the number of times 20 is appearing: \",x)\n",
        "x = list_20.count(10)\n",
        "print(\"Print the number of times 10 is appearing: \",x)\n",
        "x = list_20.count(50)\n",
        "print(\"Print the number of times 50 is appearing: \",x)"
      ],
      "metadata": {
        "id": "xtYWNnRUfykZ",
        "colab": {
          "base_uri": "https://localhost:8080/"
        },
        "outputId": "006d507d-39cf-42d1-da79-5bff8ff20799"
      },
      "execution_count": 63,
      "outputs": [
        {
          "output_type": "stream",
          "name": "stdout",
          "text": [
            "Print the List [10, 20, 10, 20, 10, 20, 50, 20]\n",
            "Print the number of times 20 is appearing:  4\n",
            "Print the number of times 10 is appearing:  3\n",
            "Print the number of times 50 is appearing:  1\n"
          ]
        }
      ]
    },
    {
      "cell_type": "code",
      "execution_count": 67,
      "metadata": {
        "colab": {
          "base_uri": "https://localhost:8080/"
        },
        "id": "HzdJE7DjkZ7-",
        "outputId": "12ab73c5-8a35-4855-abb3-9486f1f77b2c"
      },
      "outputs": [
        {
          "output_type": "stream",
          "name": "stdout",
          "text": [
            "Print the List [10, 20, 30, 40, 50, 60, 70, 80]\n",
            "Checking if 100 is in the list:  False\n",
            "Checking if 11 is in the list:  False\n",
            "Checking if 30 is in the list:  True\n"
          ]
        }
      ],
      "source": [
        "#@title 20.Checking for Membership (in)\n",
        "\n",
        "list_21 = [10,20,30,40,50,60,70,80]\n",
        "print(\"Print the List\",list_21)\n",
        "\n",
        "x = (100 in list_21)\n",
        "print(\"Checking if 100 is in the list: \",x)\n",
        "x = (11 in list_21)\n",
        "print(\"Checking if 11 is in the list: \",x)\n",
        "x = (30 in list_21)\n",
        "print(\"Checking if 30 is in the list: \",x)"
      ]
    },
    {
      "cell_type": "code",
      "source": [
        "#@title 21.Checking for Membership (not in)\n",
        "\n",
        "list_22 = [10,20,30,40,50,60,70,80]\n",
        "print(\"Print the List\",list_22)\n",
        "\n",
        "x = (110 not in list_22)\n",
        "print(\"Checking if 110 not in the list: \",x)\n",
        "x = (9 not in list_22)\n",
        "print(\"Checking if 9 not in the list: \",x)\n",
        "x = (60 not in list_22)\n",
        "print(\"Checking if 60 not in the list: \",x)"
      ],
      "metadata": {
        "id": "0jlu0amZfUYv",
        "colab": {
          "base_uri": "https://localhost:8080/"
        },
        "outputId": "fe8116ce-143e-4686-9eb1-a997b3a20f8d"
      },
      "execution_count": 71,
      "outputs": [
        {
          "output_type": "stream",
          "name": "stdout",
          "text": [
            "Print the List [10, 20, 30, 40, 50, 60, 70, 80]\n",
            "Checking if 110 not in the list:  True\n",
            "Checking if 9 not in the list:  True\n",
            "Checking if 60 not in the list:  False\n"
          ]
        }
      ]
    },
    {
      "cell_type": "code",
      "source": [
        "#@title 22.Reverse a list\n",
        "\n",
        "list_23 = [10,20,30,40,50,60,70,80]\n",
        "print(\"Print the List\",list_23)\n",
        "\n",
        "#Reverse the list\n",
        "list_23.reverse()\n",
        "print(\"Print the reversed List\",list_23)"
      ],
      "metadata": {
        "id": "4ss-JZlugMdZ",
        "colab": {
          "base_uri": "https://localhost:8080/"
        },
        "outputId": "3429666f-d0b6-4256-fe0b-f5fb25e54939"
      },
      "execution_count": 76,
      "outputs": [
        {
          "output_type": "stream",
          "name": "stdout",
          "text": [
            "Print the List [10, 20, 30, 40, 50, 60, 70, 80]\n",
            "Print the reversed List [80, 70, 60, 50, 40, 30, 20, 10]\n"
          ]
        }
      ]
    },
    {
      "cell_type": "code",
      "source": [
        "#@title 23.Sort a list\n",
        "\n",
        "list_24 = [100,40,305,204,50,802,70,610]\n",
        "print(\"Print the List\",list_24)\n",
        "\n",
        "#Sort the list\n",
        "list_24.sort()\n",
        "print(\"Print the sorted List\",list_24)"
      ],
      "metadata": {
        "id": "XNEHDoaFgop0",
        "colab": {
          "base_uri": "https://localhost:8080/"
        },
        "outputId": "2d492671-7508-4b53-8cc8-ccda8a8e46d1"
      },
      "execution_count": 75,
      "outputs": [
        {
          "output_type": "stream",
          "name": "stdout",
          "text": [
            "Print the List [100, 40, 305, 204, 50, 802, 70, 610]\n",
            "Print the sorted List [40, 50, 70, 100, 204, 305, 610, 802]\n"
          ]
        }
      ]
    },
    {
      "cell_type": "code",
      "source": [
        "#@title 24.Copy a list (Caution: Don't reassign)\n",
        "\n",
        "\n",
        "list_25 = [100,40,305,204,50,802,70,610]\n",
        "print(\"Print the List\",list_25)\n",
        "\n",
        "#copy the list\n",
        "list_25_1 = list_25.copy()\n",
        "print(\"Print the copied List\",list_25_1)"
      ],
      "metadata": {
        "id": "OKubdzAkhAzu",
        "colab": {
          "base_uri": "https://localhost:8080/"
        },
        "outputId": "05e85c25-97c0-45e5-b56f-d26a60a82894"
      },
      "execution_count": 77,
      "outputs": [
        {
          "output_type": "stream",
          "name": "stdout",
          "text": [
            "Print the List [100, 40, 305, 204, 50, 802, 70, 610]\n",
            "Print the copied List [100, 40, 305, 204, 50, 802, 70, 610]\n"
          ]
        }
      ]
    },
    {
      "cell_type": "code",
      "source": [
        "#@title 25.Clear (Empty) a list\n",
        "#Delete all the elements in the list\n",
        "\n",
        "list_26 = [100,40,305,204,50,802,70,610]\n",
        "print(\"Print the List\",list_26)\n",
        "\n",
        "#Empty the list\n",
        "list_26.clear()\n",
        "print(\"Print the emptied List\", list_26)"
      ],
      "metadata": {
        "id": "EtzP3vuKgt8T",
        "colab": {
          "base_uri": "https://localhost:8080/"
        },
        "outputId": "810b3a13-928b-417c-a4f8-1c1b9a87b541"
      },
      "execution_count": 89,
      "outputs": [
        {
          "output_type": "stream",
          "name": "stdout",
          "text": [
            "Print the List [100, 40, 305, 204, 50, 802, 70, 610]\n",
            "Print the emptied List []\n"
          ]
        }
      ]
    },
    {
      "cell_type": "code",
      "source": [
        "#@title 26.Delete the entire list\n",
        "\n",
        "list_27 = [100,40,305,204,50,802,70,610]\n",
        "print(\"Print the List\",list_27)\n",
        "\n",
        "#del the list\n",
        "\n",
        "if(list_27):\n",
        "  print(\"List exists so deleting it\")\n",
        "  del(list_27)\n",
        "  print(\"List is Deleted\")\n",
        "else:\n",
        "  print(\"List does not exist, It is already deleted\")\n"
      ],
      "metadata": {
        "id": "Kio7904Bh1uk",
        "colab": {
          "base_uri": "https://localhost:8080/"
        },
        "outputId": "bd1495ea-3f8f-4e53-8d49-9ac81bff31b4"
      },
      "execution_count": 88,
      "outputs": [
        {
          "output_type": "stream",
          "name": "stdout",
          "text": [
            "Print the List [100, 40, 305, 204, 50, 802, 70, 610]\n",
            "List exists so deleting it\n",
            "List is Deleted\n"
          ]
        }
      ]
    },
    {
      "cell_type": "code",
      "source": [
        "#@title 27.Cool Operation: You can add lists"
      ],
      "metadata": {
        "id": "xrsUOIOmiGT7"
      },
      "execution_count": null,
      "outputs": []
    },
    {
      "cell_type": "code",
      "source": [
        "#@title 28.Cool Operation: You can multiply/repeat a list"
      ],
      "metadata": {
        "id": "daHyLToliKFa"
      },
      "execution_count": null,
      "outputs": []
    },
    {
      "cell_type": "code",
      "source": [
        "#@title 29.Cool Operation: You can convert a range to a list"
      ],
      "metadata": {
        "id": "72Cxp55ziPoa"
      },
      "execution_count": null,
      "outputs": []
    },
    {
      "cell_type": "code",
      "source": [
        "#@title 30.Common Operations: Find the length (Using Built-in Function)"
      ],
      "metadata": {
        "id": "ubwosLZvYiPv"
      },
      "execution_count": null,
      "outputs": []
    },
    {
      "cell_type": "code",
      "source": [
        "#@title 31.Common Operations: Find the maximum in the list (Using Built-in Function)"
      ],
      "metadata": {
        "id": "bsYWoh8viya7"
      },
      "execution_count": null,
      "outputs": []
    },
    {
      "cell_type": "code",
      "source": [
        "#@title 32.Common Operations: Find the minimum in the list (Using Built-in Function)"
      ],
      "metadata": {
        "id": "_dXOQIhsi88b"
      },
      "execution_count": null,
      "outputs": []
    },
    {
      "cell_type": "code",
      "source": [
        "#@title 33.Common Operations: Find the sum of elements in the list (Using Built-in Function)"
      ],
      "metadata": {
        "id": "EDcj1HkdjIXD"
      },
      "execution_count": null,
      "outputs": []
    },
    {
      "cell_type": "code",
      "source": [
        "#@title 34.Common Operations: Find the average of elements in the list (Using Built-in Function)"
      ],
      "metadata": {
        "id": "rQwWmGsnjMG0"
      },
      "execution_count": null,
      "outputs": []
    },
    {
      "cell_type": "code",
      "source": [
        "#@title 35.Common Operations: Find whether the list has any duplicate elements"
      ],
      "metadata": {
        "id": "YuaeC0FVjU81"
      },
      "execution_count": null,
      "outputs": []
    },
    {
      "cell_type": "code",
      "source": [
        "#@title 36.Common Operations: Multiply / Divide / Do something to every element in the list"
      ],
      "metadata": {
        "id": "6ENoMN_Pjr1t"
      },
      "execution_count": null,
      "outputs": []
    },
    {
      "cell_type": "code",
      "source": [
        "#@title 37.List Unpacking (N to <N mapping)"
      ],
      "metadata": {
        "id": "4UgT1N2MkFY6"
      },
      "execution_count": null,
      "outputs": []
    },
    {
      "cell_type": "code",
      "source": [
        "#@title 38.List Unpacking (N to <N mapping)"
      ],
      "metadata": {
        "id": "oHnK7xtkkKoM"
      },
      "execution_count": null,
      "outputs": []
    },
    {
      "cell_type": "code",
      "source": [
        "#@title 39.Printing a List (*)"
      ],
      "metadata": {
        "id": "5MXjd3xIkieL"
      },
      "execution_count": null,
      "outputs": []
    },
    {
      "cell_type": "code",
      "source": [
        "#@title 40.List Slicing"
      ],
      "metadata": {
        "id": "05fSVpKRkoc8"
      },
      "execution_count": null,
      "outputs": []
    },
    {
      "cell_type": "code",
      "source": [
        "#@title 41.List Comprehension"
      ],
      "metadata": {
        "id": "C9igc0NqkuTz"
      },
      "execution_count": null,
      "outputs": []
    },
    {
      "cell_type": "code",
      "source": [
        "#@title 42.Two Dimenstional Lists  (List of Lists)"
      ],
      "metadata": {
        "id": "Z4lXBQV0knD_"
      },
      "execution_count": null,
      "outputs": []
    },
    {
      "cell_type": "code",
      "source": [
        "#@title 43.Zipping two or three lists"
      ],
      "metadata": {
        "id": "OtnBbCUasGXV"
      },
      "execution_count": null,
      "outputs": []
    },
    {
      "cell_type": "code",
      "source": [
        "#@title 44.Applying a map funciton on the lists"
      ],
      "metadata": {
        "id": "dPqwLI6RsLxM"
      },
      "execution_count": null,
      "outputs": []
    }
  ]
}