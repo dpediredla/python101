{
  "nbformat": 4,
  "nbformat_minor": 0,
  "metadata": {
    "colab": {
      "provenance": [],
      "authorship_tag": "ABX9TyN3VDvG8EQRYYVGlOsyNEhP",
      "include_colab_link": true
    },
    "kernelspec": {
      "name": "python3",
      "display_name": "Python 3"
    },
    "language_info": {
      "name": "python"
    }
  },
  "cells": [
    {
      "cell_type": "markdown",
      "metadata": {
        "id": "view-in-github",
        "colab_type": "text"
      },
      "source": [
        "<a href=\"https://colab.research.google.com/github/dpediredla/python101/blob/main/Assignment15_NameSearch.ipynb\" target=\"_parent\"><img src=\"https://colab.research.google.com/assets/colab-badge.svg\" alt=\"Open In Colab\"/></a>"
      ]
    },
    {
      "cell_type": "code",
      "execution_count": 14,
      "metadata": {
        "colab": {
          "base_uri": "https://localhost:8080/"
        },
        "id": "CqGM3x5fzzxj",
        "outputId": "e970bf8e-f602-4866-a58d-3f08e63264ab"
      },
      "outputs": [
        {
          "output_type": "stream",
          "name": "stdout",
          "text": [
            "Please enter the baby names seperated by space: Jacob Emily\n",
            "Jacob is in the most popular BoyNames list\n",
            "Emily is in the most popular GirlNames list\n"
          ]
        }
      ],
      "source": [
        "#@title 8.Name Search\n",
        "\n",
        "'''\n",
        "Download girlnames.txt and boynames.txt.\n",
        "\n",
        "Write a program that reads the contents of the two files into two separate lists. The user should\n",
        "be able to enter a boy’s name, a girl’s name, or both, and the application will display messages\n",
        "indicating whether the names were among the most popular.\n",
        "'''\n",
        "\n",
        "try:\n",
        "  # Open the file\n",
        "  file_name1 = 'GirlNames.txt'\n",
        "  file_obj1 = open(file_name1)\n",
        "\n",
        "  # Create an empty lists and read the file contents\n",
        "  # Append each name to the list\n",
        "  girl_names_list= []\n",
        "  for name1 in file_obj1:\n",
        "    name1 = name1[:-1]  # Strip off the new line character\n",
        "    girl_names_list.append(name1)\n",
        "  # close the file\n",
        "  file_obj1.close()\n",
        "\n",
        "  #print(\"Girl Names List : \",girl_names_list)\n",
        "\n",
        "\n",
        "  #Open the file\n",
        "  file_name2 = 'BoyNames.txt'\n",
        "  file_obj2 = open(file_name2)\n",
        "\n",
        "  # Create an empty lists and read the file contents\n",
        "  # Append each name to the list\n",
        "  boy_names_list= []\n",
        "  for name2 in file_obj2:\n",
        "    name2 = name2[:-1]  # Strip off the new line character\n",
        "    boy_names_list.append(name2)\n",
        "  # close the file\n",
        "  file_obj2.close()\n",
        "\n",
        "  #print(\"Boy Names List : \", boy_names_list)\n",
        "\n",
        "\n",
        "  # get the input from the user and check whether the number is in the list\n",
        "  input_names = input(\"Please enter the baby names seperated by space: \")\n",
        "  names = input_names.split(\" \")\n",
        "\n",
        "  for input_name in names:\n",
        "    if input_name in  girl_names_list:\n",
        "      print(input_name, \"is in the most popular GirlNames list\")\n",
        "    elif input_name in  boy_names_list:\n",
        "      print(input_name, \"is in the most popular BoyNames list\")\n",
        "    else:\n",
        "      print(input_name, \"is not in the most popular names list\")\n",
        "except FileNotFoundError:\n",
        "  print(\"File Name does not exist\")\n"
      ]
    },
    {
      "cell_type": "code",
      "source": [],
      "metadata": {
        "id": "hYL1x1640pSC"
      },
      "execution_count": null,
      "outputs": []
    }
  ]
}