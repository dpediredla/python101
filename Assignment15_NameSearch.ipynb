{
  "nbformat": 4,
  "nbformat_minor": 0,
  "metadata": {
    "colab": {
      "provenance": [],
      "authorship_tag": "ABX9TyOFtVxf/5rgHADsArssmuUF",
      "include_colab_link": true
    },
    "kernelspec": {
      "name": "python3",
      "display_name": "Python 3"
    },
    "language_info": {
      "name": "python"
    }
  },
  "cells": [
    {
      "cell_type": "markdown",
      "metadata": {
        "id": "view-in-github",
        "colab_type": "text"
      },
      "source": [
        "<a href=\"https://colab.research.google.com/github/dpediredla/python101/blob/main/Assignment15_NameSearch.ipynb\" target=\"_parent\"><img src=\"https://colab.research.google.com/assets/colab-badge.svg\" alt=\"Open In Colab\"/></a>"
      ]
    },
    {
      "cell_type": "code",
      "execution_count": 13,
      "metadata": {
        "colab": {
          "base_uri": "https://localhost:8080/"
        },
        "id": "CqGM3x5fzzxj",
        "outputId": "35903a5a-b4bc-4f66-b887-3e3fe283f196"
      },
      "outputs": [
        {
          "output_type": "stream",
          "name": "stdout",
          "text": [
            "Girl Names List :  ['Emily', 'Madison', 'Emma', 'Olivia', 'Hannah', 'Abigail', 'Isabella', 'Samantha', 'Elizabeth', 'Ashley', 'Alexis', 'Sarah', 'Sophia', 'Alyssa', 'Grace', 'Ava', 'Taylor', 'Brianna', 'Lauren', 'Chloe', 'Natalie', 'Kayla', 'Jessica', 'Anna', 'Victoria', 'Mia', 'Hailey', 'Sydney', 'Jasmine', 'Julia', 'Morgan', 'Destiny', 'Rachel', 'Ella', 'Kaitlyn', 'Megan', 'Katherine', 'Savannah', 'Jennifer', 'Alexandra', 'Allison', 'Haley', 'Maria', 'Kaylee', 'Lily', 'Makayla', 'Brooke', 'Mackenzie', 'Nicole', 'Addison', 'Stephanie', 'Lillian', 'Andrea', 'Zoe', 'Faith', 'Kimberly', 'Madeline', 'Alexa', 'Katelyn', 'Gabriella', 'Gabrielle', 'Trinity', 'Amanda', 'Kylie', 'Mary', 'Paige', 'Riley', 'Jenna', 'Leah', 'Sara', 'Rebecca', 'Michelle', 'Sofia', 'Vanessa', 'Jordan', 'Angelina', 'Caroline', 'Avery', 'Audrey', 'Evelyn', 'Maya', 'Claire', 'Autumn', 'Jocelyn', 'Ariana', 'Nevaeh', 'Arianna', 'Jada', 'Bailey', 'Brooklyn', 'Aaliyah', 'Amber', 'Isabel', 'Danielle', 'Mariah', 'Melanie', 'Sierra', 'Erin', 'Molly', 'Amelia', 'Isabelle', 'Madelyn', 'Melissa', 'Jacqueline', 'Marissa', 'Shelby', 'Angela', 'Leslie', 'Katie', 'Jade', 'Catherine', 'Diana', 'Aubrey', 'Mya', 'Amy', 'Briana', 'Sophie', 'Gabriela', 'Breanna', 'Gianna', 'Kennedy', 'Gracie', 'Peyton', 'Adriana', 'Christina', 'Courtney', 'Daniela', 'Kathryn', 'Lydia', 'Valeria', 'Layla', 'Alexandria', 'Natalia', 'Angel', 'Laura', 'Charlotte', 'Margaret', 'Cheyenne', 'Mikayla', 'Miranda', 'Naomi', 'Kelsey', 'Payton', 'Ana', 'Alicia', 'Jillian', 'Daisy', 'Mckenzie', 'Ashlyn', 'Caitlin', 'Sabrina', 'Summer', 'Ruby', 'Rylee', 'Valerie', 'Skylar', 'Lindsey', 'Kelly', 'Genesis', 'Zoey', 'Eva', 'Sadie', 'Alexia', 'Cassidy', 'Kylee', 'Kendall', 'Jordyn', 'Kate', 'Jayla', 'Karen', 'Tiffany', 'Cassandra', 'Juliana', 'Reagan', 'Caitlyn', 'Giselle', 'Serenity', 'Alondra', 'Lucy', 'Kiara', 'Bianca', 'Crystal', 'Erica', 'Angelica', 'Hope', 'Chelsea', 'Alana', 'Liliana', 'Brittany', 'Camila', 'Makenzie', 'Veronica', 'Lilly', 'Abby', 'Jazmin', 'Adrianna', 'Karina', 'Delaney', 'Ellie', 'Jasmi']\n",
            "Boy Names List :  ['Jacob', 'Michael', 'Joshua', 'Matthew', 'Daniel', 'Christopher', 'Andrew', 'Ethan', 'Joseph', 'William', 'Anthony', 'David', 'Alexander', 'Nicholas', 'Ryan', 'Tyler', 'James', 'John', 'Jonathan', 'Noah', 'Brandon', 'Christian', 'Dylan', 'Samuel', 'Benjamin', 'Zachary', 'Nathan', 'Logan', 'Justin', 'Gabriel', 'Jose', 'Austin', 'Kevin', 'Elijah', 'Caleb', 'Robert', 'Thomas', 'Jordan', 'Cameron', 'Jack', 'Hunter', 'Jackson', 'Angel', 'Isaiah', 'Evan', 'Isaac', 'Mason', 'Luke', 'Jason', 'Gavin', 'Jayden', 'Aaron', 'Connor', 'Aiden', 'Aidan', 'Kyle', 'Juan', 'Charles', 'Luis', 'Adam', 'Lucas', 'Brian', 'Eric', 'Adrian', 'Nathaniel', 'Sean', 'Alex', 'Carlos', 'Bryan', 'Ian', 'Owen', 'Jesus', 'Landon', 'Julian', 'Chase', 'Cole', 'Diego', 'Jeremiah', 'Steven', 'Sebastian', 'Xavier', 'Timothy', 'Carter', 'Wyatt', 'Brayden', 'Blake', 'Hayden', 'Devin', 'Cody', 'Richard', 'Seth', 'Dominic', 'Jaden', 'Antonio', 'Miguel', 'Liam', 'Patrick', 'Carson', 'Jesse', 'Tristan', 'Alejandro', 'Henry', 'Victor', 'Trevor', 'Bryce', 'Jake', 'Riley', 'Colin', 'Jared', 'Jeremy', 'Mark', 'Caden', 'Garrett', 'Parker', 'Marcus', 'Vincent', 'Kaleb', 'Kaden', 'Brady', 'Colton', 'Kenneth', 'Joel', 'Oscar', 'Josiah', 'Jorge', 'Cooper', 'Ashton', 'Tanner', 'Eduardo', 'Paul', 'Edward', 'Ivan', 'Preston', 'Maxwell', 'Alan', 'Levi', 'Stephen', 'Grant', 'Nicolas', 'Omar', 'Dakota', 'Alexis', 'George', 'Collin', 'Eli', 'Spencer', 'Gage', 'Max', 'Cristian', 'Ricardo', 'Derek', 'Micah', 'Brody', 'Francisco', 'Nolan', 'Ayden', 'Dalton', 'Shane', 'Peter', 'Damian', 'Jeffrey', 'Brendan', 'Travis', 'Fernando', 'Peyton', 'Conner', 'Andres', 'Javier', 'Giovanni', 'Shawn', 'Braden', 'Jonah', 'Cesar', 'Bradley', 'Emmanuel', 'Manuel', 'Edgar', 'Erik', 'Mario', 'Edwin', 'Johnathan', 'Devon', 'Erick', 'Wesley', 'Oliver', 'Trenton', 'Hector', 'Malachi', 'Jalen', 'Raymond', 'Gregory', 'Abraham', 'Elias', 'Leonardo', 'Sergio', 'Donovan', 'Colby', 'Marco', 'Bryson', 'Marti']\n",
            "Please enter the baby names seperated by space: hjgjfj Anthony\n",
            "hjgjfj is not in the most popular names list\n",
            "Anthony is in the most popular BoyNames list\n"
          ]
        }
      ],
      "source": [
        "#@title 8.Name Search\n",
        "\n",
        "'''\n",
        "Download girlnames.txt and boynames.txt.\n",
        "\n",
        "Write a program that reads the contents of the two files into two separate lists. The user should\n",
        "be able to enter a boy’s name, a girl’s name, or both, and the application will display messages\n",
        "indicating whether the names were among the most popular.\n",
        "'''\n",
        "\n",
        "try:\n",
        "  # Open the file\n",
        "  file_name1 = 'GirlNames.txt'\n",
        "  file_obj1 = open(file_name1)\n",
        "\n",
        "  # Create an empty lists and read the file contents\n",
        "  # Append each name to the list\n",
        "  girl_names_list= []\n",
        "  for name1 in file_obj1:\n",
        "    name1 = name1[:-1]  # Strip off the new line character\n",
        "    girl_names_list.append(name1)\n",
        "  # close the file\n",
        "  file_obj1.close()\n",
        "\n",
        "  print(\"Girl Names List : \",girl_names_list)\n",
        "\n",
        "\n",
        "  #Open the file\n",
        "  file_name2 = 'BoyNames.txt'\n",
        "  file_obj2 = open(file_name2)\n",
        "\n",
        "  # Create an empty lists and read the file contents\n",
        "  # Append each name to the list\n",
        "  boy_names_list= []\n",
        "  for name2 in file_obj2:\n",
        "    name2 = name2[:-1]  # Strip off the new line character\n",
        "    boy_names_list.append(name2)\n",
        "  # close the file\n",
        "  file_obj2.close()\n",
        "\n",
        "  print(\"Boy Names List : \", boy_names_list)\n",
        "\n",
        "\n",
        "  # get the input from the user and check whether the number is in the list\n",
        "  input_names = input(\"Please enter the baby names seperated by space: \")\n",
        "  names = input_names.split(\" \")\n",
        "\n",
        "  for input_name in names:\n",
        "    if input_name in  girl_names_list:\n",
        "      print(input_name, \"is in the most popular GirlNames list\")\n",
        "    elif input_name in  boy_names_list:\n",
        "      print(input_name, \"is in the most popular BoyNames list\")\n",
        "    else:\n",
        "      print(input_name, \"is not in the most popular names list\")\n",
        "except FileNotFoundError:\n",
        "  print(\"File Name does not exist\")\n"
      ]
    },
    {
      "cell_type": "code",
      "source": [],
      "metadata": {
        "id": "hYL1x1640pSC"
      },
      "execution_count": null,
      "outputs": []
    }
  ]
}