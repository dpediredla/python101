{
  "nbformat": 4,
  "nbformat_minor": 0,
  "metadata": {
    "colab": {
      "provenance": [],
      "authorship_tag": "ABX9TyMSmcLNTw/E5h0CTEWjMT1i",
      "include_colab_link": true
    },
    "kernelspec": {
      "name": "python3",
      "display_name": "Python 3"
    },
    "language_info": {
      "name": "python"
    }
  },
  "cells": [
    {
      "cell_type": "markdown",
      "metadata": {
        "id": "view-in-github",
        "colab_type": "text"
      },
      "source": [
        "<a href=\"https://colab.research.google.com/github/dpediredla/python101/blob/main/Assignment13_goldilocks.ipynb\" target=\"_parent\"><img src=\"https://colab.research.google.com/assets/colab-badge.svg\" alt=\"Open In Colab\"/></a>"
      ]
    },
    {
      "cell_type": "code",
      "execution_count": 31,
      "metadata": {
        "colab": {
          "base_uri": "https://localhost:8080/"
        },
        "id": "gG958z9WygRH",
        "outputId": "6403b561-82f8-4585-8897-934660b08856"
      },
      "outputs": [
        {
          "output_type": "stream",
          "name": "stdout",
          "text": [
            "Count of 'Papa':  4\n",
            "Count of 'Mama':  4\n",
            "\n",
            "Longest Line Count:  18\n",
            "Longest Line:  Goldilocks was very tired by this time, so she went upstairs to the bedroom. She lay down in the first bed, but it\n",
            "\n",
            "Shortest Line Count:  35\n",
            "Shortest Line:  THE END\n"
          ]
        }
      ],
      "source": [
        "#Upload the file to google colab\n",
        "#Open the file for reading and create a file object\n",
        "fh = open(\"goldilocks.txt\", \"r\")\n",
        "words = [\"Papa\",\"Mama\"]\n",
        "w1_count = 1\n",
        "w2_count = 1\n",
        "len_str = []\n",
        "\n",
        "#read the whole text using readlines( ) method to get a list of lines\n",
        "lines_list = fh.readlines()\n",
        "\n",
        "for i in lines_list:\n",
        "    line = i.split()\n",
        "    line_length = len(i)\n",
        "    len_str.append(line_length)\n",
        "    #Count the number of times \"Papa\" and \"Mama\" were found in the file\n",
        "    if words[0] in line:\n",
        "#      print(\"Papa in Line :\",i)\n",
        "      w1_count = w1_count+1\n",
        "    if words[1] in line:\n",
        "#      print(\"Mama in Line :\",i)\n",
        "      w2_count = w2_count+1\n",
        "print(\"Count of 'Papa': \",w1_count)\n",
        "print(\"Count of 'Mama': \",w2_count)\n",
        "print(\"\")\n",
        "\n",
        "#Find the longest and the shortest line in the file\n",
        "max = len_str[0]\n",
        "min = len_str[0]\n",
        "l_index = 0\n",
        "s_index = 0\n",
        "for i in range(1,len(len_str)):\n",
        "    if len_str[i] > max:\n",
        "        max = len_str[i]\n",
        "        l_index = i\n",
        "    if len_str[i] < min:\n",
        "        min = len_str[i]\n",
        "        s_index = i\n",
        "print(\"Longest Line Count: \", l_index)\n",
        "print(\"Longest Line: \", lines_list[l_index])\n",
        "print(\"Shortest Line Count: \", s_index)\n",
        "print(\"Shortest Line: \", lines_list[s_index])\n",
        "\n"
      ]
    },
    {
      "cell_type": "code",
      "source": [],
      "metadata": {
        "id": "_vUCWfD58UOb"
      },
      "execution_count": null,
      "outputs": []
    }
  ]
}