{
  "nbformat": 4,
  "nbformat_minor": 0,
  "metadata": {
    "colab": {
      "provenance": [],
      "authorship_tag": "ABX9TyPH61s4w+yKxfy9LQg+0ZfH",
      "include_colab_link": true
    },
    "kernelspec": {
      "name": "python3",
      "display_name": "Python 3"
    },
    "language_info": {
      "name": "python"
    }
  },
  "cells": [
    {
      "cell_type": "markdown",
      "metadata": {
        "id": "view-in-github",
        "colab_type": "text"
      },
      "source": [
        "<a href=\"https://colab.research.google.com/github/dpediredla/python101/blob/main/assignment3_10.ipynb\" target=\"_parent\"><img src=\"https://colab.research.google.com/assets/colab-badge.svg\" alt=\"Open In Colab\"/></a>"
      ]
    },
    {
      "cell_type": "markdown",
      "source": [
        "\n",
        "#Chapter 3\n",
        "## Assignment 3.10\n",
        "### Money Counting Game"
      ],
      "metadata": {
        "id": "NaMF4T2-mq1D"
      }
    },
    {
      "cell_type": "code",
      "execution_count": null,
      "metadata": {
        "id": "76PqpV-fmY1I"
      },
      "outputs": [],
      "source": [
        "##################\n",
        "#Money Counting Game\n",
        "#Assignment 3.10\n",
        "##################\n",
        "\n",
        "#Take the input from the user\n",
        "no_of_pennies = int(input(\"Please enter number of pennies: \"))\n",
        "no_of_nickels = int(input(\"Please enter number of nickels: \"))\n",
        "no_of_dimes = int(input(\"Please enter number of dimes: \"))\n",
        "no_of_quarters = int(input(\"Please enter number of quarter: \"))\n",
        "\n",
        "#Calculate the amount\n",
        "total_pennies = no_of_pennies*1\n",
        "total_nickels = no_of_nickels*5\n",
        "total_dimes = no_of_dimes*10\n",
        "total_quarters = no_of_quarters*25\n",
        "\n",
        "print(\"Total value of pennies: \", total_pennies )\n",
        "print(\"Total value of nickels: \", total_nickels)\n",
        "print(\"Total value of dimes: \", total_dimes)\n",
        "print(\"Total value of quarters: \", total_quarters)\n",
        "\n",
        "total_amount = total_pennies+total_nickels+total_dimes+total_quarters\n",
        "\n",
        "print(\"Total Amount: \",total_amount)\n",
        "\n",
        "#Compare if the total amount is = or < or > $1\n",
        "if(total_amount == 100):\n",
        "    print(\"Congratulations you entered $1 - you won the game\")\n",
        "elif(total_amount<100):\n",
        "    print(\"The amount you guessed was \", total_amount, \" cents which is less than $1\")\n",
        "elif(total_amount>100):\n",
        "    print(\"The amount you guessed was \", total_amount, \" cents which is more than $1\")\n",
        "else:\n",
        "    print(\"Error: incorrect input\")"
      ]
    }
  ]
}