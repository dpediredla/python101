{
  "nbformat": 4,
  "nbformat_minor": 0,
  "metadata": {
    "colab": {
      "provenance": [],
      "authorship_tag": "ABX9TyOl8VfdKU0M1gpdWuYAn2V+",
      "include_colab_link": true
    },
    "kernelspec": {
      "name": "python3",
      "display_name": "Python 3"
    },
    "language_info": {
      "name": "python"
    }
  },
  "cells": [
    {
      "cell_type": "markdown",
      "metadata": {
        "id": "view-in-github",
        "colab_type": "text"
      },
      "source": [
        "<a href=\"https://colab.research.google.com/github/dpediredla/python101/blob/main/A12_Telephone_Number_Translator.ipynb\" target=\"_parent\"><img src=\"https://colab.research.google.com/assets/colab-badge.svg\" alt=\"Open In Colab\"/></a>"
      ]
    },
    {
      "cell_type": "markdown",
      "source": [
        "Telephone Number Translator\n",
        "\n",
        "Page 519"
      ],
      "metadata": {
        "id": "vQfSlquWiTtO"
      }
    },
    {
      "cell_type": "code",
      "execution_count": 3,
      "metadata": {
        "colab": {
          "base_uri": "https://localhost:8080/"
        },
        "id": "pMvSu2hBhbEV",
        "outputId": "61b74eb5-bab9-40f3-eea8-95b037a47217"
      },
      "outputs": [
        {
          "output_type": "stream",
          "name": "stdout",
          "text": [
            "Please Enter the phone number in the format XXX-XXX-XXXX: 555-GET-FOOD\n",
            "Number entered by the user : 555-GET-FOOD\n",
            "The Number for 555-GET-FOOD  : 555-438-3663\n"
          ]
        }
      ],
      "source": [
        "#phone_num function definition to convert phone number text to digits\n",
        "def phone_num(pnumber):\n",
        "    num = pnumber.split('-')\n",
        "    area_code=num[0]\n",
        "    remaining_num = num[1:]\n",
        "    cnumber=''\n",
        "    for n in remaining_num:\n",
        "        for i in range (len(n)):\n",
        "            if n[i] in 'ABC':\n",
        "                cnumber=cnumber+'2'\n",
        "            elif n[i] in 'DEF':\n",
        "                cnumber=cnumber+'3'\n",
        "            elif n[i] in 'GHI':\n",
        "                cnumber=cnumber+'4'\n",
        "            elif n[i] in 'JKL':\n",
        "                cnumber=cnumber+'5'\n",
        "            elif n[i] in 'MNO':\n",
        "                cnumber=cnumber+'6'\n",
        "            elif n[i] in 'PQRS':\n",
        "                cnumber=cnumber+'7'\n",
        "            elif n[i] in 'TUV':\n",
        "                cnumber=cnumber+'8'\n",
        "            elif n[i] in 'WXY':\n",
        "                cnumber=cnumber+'9'\n",
        "        cnumber=cnumber+'-'\n",
        "    return area_code+'-'+cnumber[:-1]\n",
        "    \n",
        "\n",
        "pnumber=input(\"Please Enter the phone number in the format XXX-XXX-XXXX: \")\n",
        "#pnumber = '555-GET-FOOD'\n",
        "print(\"Number entered by the user :\", pnumber)\n",
        "if (len(pnumber) == 12):\n",
        "    #call function phone_num which takes phone number with text as input\n",
        "    number = phone_num(pnumber)\n",
        "    #print the value returned by the function\n",
        "    print(\"The Number for\", pnumber, \" :\" ,number)\n",
        "else:\n",
        "    print(\"Invalid Number\")\n"
      ]
    }
  ]
}