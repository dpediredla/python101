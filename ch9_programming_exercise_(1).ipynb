{
  "nbformat": 4,
  "nbformat_minor": 0,
  "metadata": {
    "colab": {
      "provenance": [],
      "include_colab_link": true
    },
    "kernelspec": {
      "name": "python3",
      "display_name": "Python 3"
    },
    "language_info": {
      "name": "python"
    }
  },
  "cells": [
    {
      "cell_type": "markdown",
      "metadata": {
        "id": "view-in-github",
        "colab_type": "text"
      },
      "source": [
        "<a href=\"https://colab.research.google.com/github/dpediredla/python101/blob/main/ch9_programming_exercise_(1).ipynb\" target=\"_parent\"><img src=\"https://colab.research.google.com/assets/colab-badge.svg\" alt=\"Open In Colab\"/></a>"
      ]
    },
    {
      "cell_type": "markdown",
      "source": [
        "# Chapter 9: Sets and Dictionaries (Programming Exercises)"
      ],
      "metadata": {
        "id": "6IP5gn17Jlyz"
      }
    },
    {
      "cell_type": "code",
      "source": [
        "#@title 1.Course Information\n",
        "\n",
        "'''\n",
        "Create the following dictionaries:\n",
        "\n",
        "Course number - Key ; Room number - Value\n",
        "Course number - Key ; Instructor - Value\n",
        "Course number - Key ; Meeting time - Value\n",
        "\n",
        "Program should let user enter a course number, then display room number, instructor, meeting time.\n",
        "'''"
      ],
      "metadata": {
        "id": "PFWVWkPUHFJb"
      },
      "execution_count": null,
      "outputs": []
    },
    {
      "cell_type": "code",
      "source": [
        "#@title 2.Captial Quiz\n",
        "\n",
        "'''\n",
        "Create the following dictionary:\n",
        "\n",
        "U.S. state - Key ; State's capital - Valuw\n",
        "\n",
        "Then, program should randomly quiz user by displaying name of a state and asking user to enter the capital.\n",
        "Porgram should keep track of correct and incorrect responses.\n",
        "'''"
      ],
      "metadata": {
        "id": "VsJ1C1NqIaOR"
      },
      "execution_count": null,
      "outputs": []
    },
    {
      "cell_type": "code",
      "source": [
        "#@title 3.File Encryption and Decryption\n",
        "\n",
        "'''\n",
        "Write a program that uses a dictionary to assign a special symbol to each letter of the alphabet. \n",
        "Ex. A = %; B = &; C = *\n",
        "\n",
        "The program should read a text file and use the dictionary to write an encrypted version of the file.\n",
        "Write a second program that opens an encrypted file and displays its decrypted contents on the\n",
        "screen.\n",
        "'''"
      ],
      "metadata": {
        "id": "cCmOUIqUJOvP"
      },
      "execution_count": null,
      "outputs": []
    },
    {
      "cell_type": "code",
      "source": [
        "#@title 4.Unique Words\n",
        "\n",
        "'''\n",
        "Write a program that opens a specified text file then displays a list of all the unique words found\n",
        "in the file.\n",
        "\n",
        "Hint: Store each word as an element of a set.\n",
        "'''"
      ],
      "metadata": {
        "id": "vg0-6zPKCGhV"
      },
      "execution_count": null,
      "outputs": []
    },
    {
      "cell_type": "code",
      "source": [
        "#@title 5.Word Frequency\n",
        "\n",
        "'''\n",
        "Write a program that reads the contents of a text file. \n",
        "\n",
        "Create a dictionary where the keys = individual words found in the file and values = number of times each word appears. \n",
        "\n",
        "Program should display the frequency of each word in a new file.\n",
        "'''"
      ],
      "metadata": {
        "id": "ox1rmXuHCO-O"
      },
      "execution_count": null,
      "outputs": []
    },
    {
      "cell_type": "code",
      "source": [
        "from typing_extensions import NewType\n",
        "#@title 6.File Analysis\n",
        "\n",
        "'''\n",
        "Write a program that reads the contents of two text files and prints the following lists:\n",
        "\n",
        "1. All the unique words contained in both files.\n",
        "2. The words that appear in both files.\n",
        "3. The words that appear in the first file but not the second.\n",
        "4. The words that appear in the second file but not the first.\n",
        "5.The words that appear in either the first or second file, but not both.\n",
        "\n",
        "Hint: Use set operations to perform these analyses.\n",
        "'''\n",
        "\n",
        "try:\n",
        "  file1 = open(\"file1.txt\")\n",
        "  file2= open(\"file2.txt\")\n",
        "  file1_set = set()\n",
        "  file2_set = set()\n",
        "  for file1_line in file1:\n",
        "    file1_words = file1_line.split(\" \")\n",
        "    for word in file1_words:\n",
        "      if word[-1] == '\\n': \n",
        "        word = word[:-1]  # Strip off the new line character\n",
        "      file1_set.add(word)\n",
        "  for file2_line in file2:\n",
        "    file2_words = file2_line.split(\" \")\n",
        "    for word in file2_words:\n",
        "      if word[-1] == '\\n':\n",
        "        word = word[:-1]  # Strip off the new line character\n",
        "      file2_set.add(word)\n",
        "  print(\"File1 set: \",file1_set)\n",
        "  print(\"File2 set: \",file2_set)\n",
        "  #Union\n",
        "  set1_set2_union= file1_set.union(file2_set)\n",
        "  print(\"List of all unique words in both the files: \",set1_set2_union)\n",
        "\n",
        "  #Intersection\n",
        "  set1_set2_intersection = file1_set.intersection(file2_set)\n",
        "  print(\"List of words that appear in both the files: \",set1_set2_intersection)\n",
        "  #Exclusive to File1\n",
        "  set1_set2_differ = file1_set.difference(file2_set)\n",
        "  print(\"List of words that appear in first file but not the second: \",set1_set2_differ)\n",
        "  #Exclusive to File2\n",
        "  set2_set1_differ = file2_set.difference(file1_set)\n",
        "  print(\"List of words that appear in second file but not the first: \",set2_set1_differ)\n",
        "  #Symmetric Difference\n",
        "  set1_set2_sym_differ = file1_set.symmetric_difference(file2_set)\n",
        "  print(\"List of words that appear either the first or the second but not the both: \",set1_set2_sym_differ)\n",
        "except FileNotFoundError:\n",
        "  print(\"File does not exist\")\n",
        "\n",
        "print(\"\\nCreating a new combined_file: \\n\" )\n",
        "\n",
        "#Printing Union to a file\n",
        "file3_output = open(\"combined_file.txt\", \"w\")\n",
        "newString =\"\"\n",
        "for i in set1_set2_union:\n",
        "  i = i+' '\n",
        "  newString = newString+i\n",
        "print(\"Printing the union to combined_file: \",newString )\n",
        "file3_output.writelines(newString)\n",
        "file3_output.close()"
      ],
      "metadata": {
        "id": "kmOINiwuC2TJ",
        "colab": {
          "base_uri": "https://localhost:8080/"
        },
        "outputId": "17a74fea-9cb4-4fac-b284-d5495e3d7c39"
      },
      "execution_count": 45,
      "outputs": [
        {
          "output_type": "stream",
          "name": "stdout",
          "text": [
            "File1 set:  {'elephant', 'bird', 'fish', 'boy', 'dog', 'cat'}\n",
            "File2 set:  {'elephant', 'boy', 'zebra', 'cat'}\n",
            "List of all unique words in both the files:  {'elephant', 'bird', 'fish', 'boy', 'dog', 'zebra', 'cat'}\n",
            "List of words that appear in both the files:  {'elephant', 'boy', 'cat'}\n",
            "List of words that appear in first file but not the second:  {'bird', 'dog', 'fish'}\n",
            "List of words that appear in second file but not the first:  {'zebra'}\n",
            "List of words that appear either the first or the second but not the both:  {'bird', 'fish', 'zebra', 'dog'}\n",
            "\n",
            "Creating a new combined_file: \n",
            "\n",
            "Printing the union to combined_file:  elephant bird fish boy dog zebra cat \n"
          ]
        }
      ]
    },
    {
      "cell_type": "code",
      "source": [
        "#@title 7.World Series Winner\n",
        "\n",
        "'''\n",
        "Download WorldSeriesWinners.txt, which contains a chronological list of the World Series’ winning teams from 1903-2009.\n",
        "\n",
        "Reads this file and create a dictionary where the keys = names of teams, and values = number of times the team has won.\n",
        "\n",
        "The program should also create a dictionary in which the keys = years, and values = name of the team that won that year.\n",
        "\n",
        "The program should prompt the user for a year in the range of 1903 through 2009. \n",
        "\n",
        "It should then display the name of the team that won the World Series that year, and the number of times\n",
        "that team has won the World Series.\n",
        "'''"
      ],
      "metadata": {
        "id": "PbzGK47PDNH1"
      },
      "execution_count": null,
      "outputs": []
    },
    {
      "cell_type": "code",
      "source": [
        "#@title 8.Name and Email Addresses\n",
        "\n",
        "'''\n",
        "Write a program that keeps names and email addresses in a dictionary as key-value pairs. \n",
        "\n",
        "The program should display a menu that lets the user look up a person’s email address, add a new\n",
        "name and email address, change an existing email address, and delete an existing name and\n",
        "email address. \n",
        "\n",
        "The program should pickle the dictionary and save it to a file when the user exits the program. \n",
        "Each time the program starts, it should retrieve the dictionary from the file and unpickle it.\n",
        "'''"
      ],
      "metadata": {
        "id": "N8a4OoNwF5xK"
      },
      "execution_count": null,
      "outputs": []
    },
    {
      "cell_type": "code",
      "source": [
        "#@title 9.Blackjack Simulation\n",
        "\n",
        "'''\n",
        "Enhance the card_dealer.py program so it simulates a simplified version of the game of Blackjack between two players.\n",
        "\n",
        "The cards have the following values:\n",
        " - Numeric cards are assigned the value they have printed on them. \n",
        " - Jacks, queens, and kings are valued at 10.\n",
        " - Aces are valued at 1 or 11, depending on the player’s choice.\n",
        "\n",
        "The program should deal cards to each player until one player’s hand is worth more than 21 points. \n",
        "When that happens, the other player is the winner. (It is possible that both players’ hands\n",
        "will simultaneously exceed 21 points, in which case neither player wins.) \n",
        "\n",
        "The program should repeat until all the cards have been dealt from the deck.\n",
        "\n",
        "If a player is dealt an ace, the program should decide the value of the card according to the\n",
        "following rule: The ace will be worth 11 points, unless that makes the player’s hand exceed 21\n",
        "points. In that case, the ace will be worth 1 point.\n",
        "'''"
      ],
      "metadata": {
        "id": "6KhJYGl-GJ-H"
      },
      "execution_count": null,
      "outputs": []
    },
    {
      "cell_type": "code",
      "source": [
        "#@title 10.Word Index\n",
        "\n",
        "'''\n",
        "Write a program that reads the contents of a text file. The program should create a dictionary where:\n",
        "  Key: Individual words found in the file.\n",
        "  Values: A list that contains the line numbers in the file where the word (the key) is found.\n",
        "\n",
        "Once the dictionary is built, the program should create another text file, known as a word_index.txt,\n",
        "listing the contents of the dictionary. \n",
        "\n",
        "The word_index file should contain an alphabetical listing of the words that are stored as keys in the dictionary, \n",
        "along with the line numbers where the words appear in the original file. \n",
        "'''"
      ],
      "metadata": {
        "id": "4xfcPvLyGkUD"
      },
      "execution_count": null,
      "outputs": []
    }
  ]
}