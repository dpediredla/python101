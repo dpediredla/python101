{
  "nbformat": 4,
  "nbformat_minor": 0,
  "metadata": {
    "colab": {
      "provenance": [],
      "authorship_tag": "ABX9TyNi2oKlewKDdugOi0mv0QPg",
      "include_colab_link": true
    },
    "kernelspec": {
      "name": "python3",
      "display_name": "Python 3"
    },
    "language_info": {
      "name": "python"
    }
  },
  "cells": [
    {
      "cell_type": "markdown",
      "metadata": {
        "id": "view-in-github",
        "colab_type": "text"
      },
      "source": [
        "<a href=\"https://colab.research.google.com/github/dpediredla/python101/blob/main/assignment4.ipynb\" target=\"_parent\"><img src=\"https://colab.research.google.com/assets/colab-badge.svg\" alt=\"Open In Colab\"/></a>"
      ]
    },
    {
      "cell_type": "markdown",
      "source": [
        "#Assignment 4.3\n",
        "##Budget analysis\n",
        "####Write a program that asks the user to enter the amount that he or she has budgeted for a month. A loop should then  prompt the user to enter each of her expenses for the month and keep a running total. whent the loop finishes the program should display the amount that the user is over or under budget."
      ],
      "metadata": {
        "id": "ovLRjnQG5H34"
      }
    },
    {
      "cell_type": "code",
      "execution_count": 9,
      "metadata": {
        "colab": {
          "base_uri": "https://localhost:8080/"
        },
        "id": "vxhOLSFqzseQ",
        "outputId": "c253d454-99f6-4089-bbef-0b5ae5ce49ca"
      },
      "outputs": [
        {
          "output_type": "stream",
          "name": "stdout",
          "text": [
            "What is the amount budgeted per month? 300\n",
            "Please enter number of expenses per month? 2\n",
            "Please enter the expense: 150\n",
            "Expense 1  for this month :  150\n",
            "Please enter the expense: 150\n",
            "Expense 2  for this month :  150\n",
            "Your expenses matched the budget\n",
            "End\n"
          ]
        }
      ],
      "source": [
        "###################\n",
        "# Assignment 4.3\n",
        "# Budget Analysis\n",
        "###################\n",
        "\n",
        "#Please take Budget per month input from the user \n",
        "budget_per_month = int(input(\"What is the amount budgeted per month? \"))\n",
        "total_expenses = 0\n",
        "expense = 0\n",
        "no_of_expenses=int(input(\"Please enter number of expenses per month? \"))\n",
        "n=1\n",
        "\n",
        "#While loop to calculate total expenses per month\n",
        "while(n<=no_of_expenses):\n",
        "    expense = int(input(\"Please enter the expense: \"))\n",
        "    print(\"Expense\",n,\" for this month : \", expense)\n",
        "    total_expenses = total_expenses+expense    \n",
        "    if(n==no_of_expenses):\n",
        "        if(total_expenses<budget_per_month):\n",
        "            difference = budget_per_month-total_expenses\n",
        "            print(\"You are under the budget by \", difference)\n",
        "        elif(total_expenses>budget_per_month):\n",
        "            difference = total_expenses-budget_per_month\n",
        "            print(\"You are over the budget by \", difference)\n",
        "        else:  \n",
        "            print(\"Your expenses matched the budget\")\n",
        "    n=n+1\n",
        "print(\"End\")"
      ]
    },
    {
      "cell_type": "markdown",
      "source": [
        "#Assignment 4.4\n",
        "##Distance Traveled\n",
        "####Distance the vehicle traveled can be calculated as follows:\n",
        "####distance = speed*time"
      ],
      "metadata": {
        "id": "0RIeY_MN0T5j"
      }
    },
    {
      "cell_type": "code",
      "source": [
        "###################\n",
        "# Assignment 4.4\n",
        "# Distance Traveled\n",
        "###################\n",
        "\n",
        "#Please take speed traveled and time input from the user \n",
        "speed_traveled = int(input(\"What is the speeed of the vehicle in mph? \"))\n",
        "time_traveled = int(input(\"How many hours has it traveled? \"))\n",
        "\n",
        "#Variable used for per hour increment \n",
        "time_increment=1\n",
        "\n",
        "print(\"Hour  Distance Traveled\")\n",
        "\n",
        "#While loop to print distance traveled per hour\n",
        "while(time_increment<=time_traveled):\n",
        "    distance_traveled = speed_traveled*time_increment\n",
        "    print(time_increment,distance_traveled)\n",
        "    time_increment=time_increment+1\n",
        "print(\"End\")"
      ],
      "metadata": {
        "colab": {
          "base_uri": "https://localhost:8080/"
        },
        "id": "j3SvCp9z0lSP",
        "outputId": "d171f44d-6b95-4ff2-8518-34f5e0e8880f"
      },
      "execution_count": 1,
      "outputs": [
        {
          "output_type": "stream",
          "name": "stdout",
          "text": [
            "What is the speeed of the vehicle in mph? 30\n",
            "How many hours has it traveled? 5\n",
            "Hour  Distance Traveled\n",
            "1 30\n",
            "2 60\n",
            "3 90\n",
            "4 120\n",
            "5 150\n",
            "End\n"
          ]
        }
      ]
    },
    {
      "cell_type": "markdown",
      "source": [
        "#Assignment4.6\n",
        "##Celsius to Fahrenheit conversion\n",
        "\n",
        "###Write a program that displays the table of the Celsius temperatures 0 through 20 Fahrenheit equivalents\n",
        "#####F=(9/5)*C+32\n",
        "##### F is Fahrenheit and C is Celsius"
      ],
      "metadata": {
        "id": "NOsiGhj7jx7l"
      }
    },
    {
      "cell_type": "code",
      "source": [
        "###################\n",
        "# Assignment 4.6\n",
        "# Celsius to Fahrenheit Conversion\n",
        "###################\n",
        "\n",
        "#celcius to fahrenheit conversion starting from celsius 0\n",
        "celsius=0\n",
        "\n",
        "#While loop to calculate celcius to fahrenheit conversion\n",
        "while(celsius<=20):\n",
        "    fahrenheit = (9/5)*celsius+32\n",
        "    print(celsius,\"Celsius is equal to \", fahrenheit, \" Fahrenheit\")\n",
        "    celsius=celsius+1\n",
        "print(\"End\")"
      ],
      "metadata": {
        "colab": {
          "base_uri": "https://localhost:8080/"
        },
        "id": "RirxsvCyjzvH",
        "outputId": "891c8ac1-9ed3-49d6-9f9d-3b09ab13e982"
      },
      "execution_count": 6,
      "outputs": [
        {
          "output_type": "stream",
          "name": "stdout",
          "text": [
            "0 Celsius is equal to  32.0  Fahrenheit\n",
            "1 Celsius is equal to  33.8  Fahrenheit\n",
            "2 Celsius is equal to  35.6  Fahrenheit\n",
            "3 Celsius is equal to  37.4  Fahrenheit\n",
            "4 Celsius is equal to  39.2  Fahrenheit\n",
            "5 Celsius is equal to  41.0  Fahrenheit\n",
            "6 Celsius is equal to  42.8  Fahrenheit\n",
            "7 Celsius is equal to  44.6  Fahrenheit\n",
            "8 Celsius is equal to  46.4  Fahrenheit\n",
            "9 Celsius is equal to  48.2  Fahrenheit\n",
            "10 Celsius is equal to  50.0  Fahrenheit\n",
            "11 Celsius is equal to  51.8  Fahrenheit\n",
            "12 Celsius is equal to  53.6  Fahrenheit\n",
            "13 Celsius is equal to  55.400000000000006  Fahrenheit\n",
            "14 Celsius is equal to  57.2  Fahrenheit\n",
            "15 Celsius is equal to  59.0  Fahrenheit\n",
            "16 Celsius is equal to  60.8  Fahrenheit\n",
            "17 Celsius is equal to  62.6  Fahrenheit\n",
            "18 Celsius is equal to  64.4  Fahrenheit\n",
            "19 Celsius is equal to  66.2  Fahrenheit\n",
            "20 Celsius is equal to  68.0  Fahrenheit\n",
            "End\n"
          ]
        }
      ]
    },
    {
      "cell_type": "markdown",
      "source": [],
      "metadata": {
        "id": "Klg8Xf-V1L7f"
      }
    }
  ]
}