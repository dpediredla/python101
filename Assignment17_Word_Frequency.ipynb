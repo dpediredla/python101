{
  "nbformat": 4,
  "nbformat_minor": 0,
  "metadata": {
    "colab": {
      "provenance": [],
      "authorship_tag": "ABX9TyO2XuQVoJS/n0PlDUcOBr8X",
      "include_colab_link": true
    },
    "kernelspec": {
      "name": "python3",
      "display_name": "Python 3"
    },
    "language_info": {
      "name": "python"
    }
  },
  "cells": [
    {
      "cell_type": "markdown",
      "metadata": {
        "id": "view-in-github",
        "colab_type": "text"
      },
      "source": [
        "<a href=\"https://colab.research.google.com/github/dpediredla/python101/blob/main/Assignment17_Word_Frequency.ipynb\" target=\"_parent\"><img src=\"https://colab.research.google.com/assets/colab-badge.svg\" alt=\"Open In Colab\"/></a>"
      ]
    },
    {
      "cell_type": "code",
      "execution_count": 18,
      "metadata": {
        "colab": {
          "base_uri": "https://localhost:8080/"
        },
        "id": "KjNVKY-qZIXv",
        "outputId": "b443aa19-a62a-415b-bd77-eff82eb0a4cb"
      },
      "outputs": [
        {
          "output_type": "stream",
          "name": "stdout",
          "text": [
            "Frequency Table\n",
            "boy 3\n",
            "cat 4\n",
            "dog 3\n",
            "elephant 2\n",
            "fish 2\n",
            "bird 2\n"
          ]
        }
      ],
      "source": [
        "#@title 5.Word Frequency (Programming_Exercise_5_in_Chapter_9)\n",
        "\n",
        "# '''\n",
        "# Write a program that reads the contents of a text file. \n",
        "\n",
        "# Create a dictionary where the keys = individual words found in the file and values = number of times each word appears. \n",
        "\n",
        "# Program should display the frequency of each word in a new file.\n",
        "# '''\n",
        "\n",
        "# Create a text file with your own words (input.txt)\n",
        "# Read the text file\n",
        "# For each word you find, add it the dictionary (if it is not there in the dictionary)\n",
        "#                         if it is there in the dictionary, simply update the COUNT\n",
        "# at the end of the loop, print the KEYs (words) and the VALUE (count)\n",
        "\n",
        "# Sample output\n",
        "# Frequecy Table\n",
        "# ant 4\n",
        "# bat 3\n",
        "# zebra 10\n",
        "# snake 4\n",
        "\n",
        "#Contents of the input.txt file\n",
        "# boy cat dog elephant\n",
        "# fish bird boy\n",
        "# dog fish cat\n",
        "# boy bird cat\n",
        "# cat elephant\n",
        "# dog\n",
        "\n",
        "\n",
        "#Read the input.txt file contents\n",
        "try:\n",
        "  filename = \"input.txt\"\n",
        "  file1 = open(filename, \"r\")\n",
        "  word_dict = dict()\n",
        "\n",
        "  for file1_line in file1:\n",
        "    file1_words = file1_line.split(\" \")\n",
        "    for word in file1_words:\n",
        "      if word[-1] == '\\n': \n",
        "        word = word[:-1]  # Strip off the new line character\n",
        "      \n",
        "      # Check if the word is already in dictionary\n",
        "      if word in word_dict:\n",
        "        # Increment count of word by 1\n",
        "        word_dict[word] = word_dict[word] + 1\n",
        "      else:\n",
        "        # Add the word to dictionary with count 1\n",
        "        word_dict[word] = 1\n",
        "\n",
        "  file1.close()\n",
        "  print(\"Frequency Table\")\n",
        "  # Print the contents of dictionary\n",
        "  for k in list(word_dict.keys()):\n",
        "    print(k, word_dict[k])\n",
        "\n",
        "except FileNotFoundError:\n",
        "  print(\"File does not exist\")"
      ]
    },
    {
      "cell_type": "markdown",
      "source": [
        "# New Section"
      ],
      "metadata": {
        "id": "FypMsrKWdt8L"
      }
    }
  ]
}