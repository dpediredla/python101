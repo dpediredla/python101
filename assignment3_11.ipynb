{
  "nbformat": 4,
  "nbformat_minor": 0,
  "metadata": {
    "colab": {
      "provenance": [],
      "authorship_tag": "ABX9TyM9xsVJEhQQ92Xx60k2A5PG",
      "include_colab_link": true
    },
    "kernelspec": {
      "name": "python3",
      "display_name": "Python 3"
    },
    "language_info": {
      "name": "python"
    }
  },
  "cells": [
    {
      "cell_type": "markdown",
      "metadata": {
        "id": "view-in-github",
        "colab_type": "text"
      },
      "source": [
        "<a href=\"https://colab.research.google.com/github/dpediredla/python101/blob/main/assignment3_11.ipynb\" target=\"_parent\"><img src=\"https://colab.research.google.com/assets/colab-badge.svg\" alt=\"Open In Colab\"/></a>"
      ]
    },
    {
      "cell_type": "markdown",
      "source": [
        "#Chapter 3\n",
        "##Assignment 3.11\n",
        "###Book Club Points"
      ],
      "metadata": {
        "id": "U9kMqY9Z9kDl"
      }
    },
    {
      "cell_type": "code",
      "execution_count": null,
      "metadata": {
        "id": "1YSwca2B9fBl"
      },
      "outputs": [],
      "source": [
        "##################\n",
        "#Book Club Points\n",
        "#Assignment 3.11\n",
        "##################\n",
        "\n",
        "#Take the input from the user\n",
        "no_of_books = int(input(\"Please enter number of books purchased in this month: \"))\n",
        "print(\"Number of books read =\", no_of_books)\n",
        "\n",
        "#Number of points depending on the number of books purchased\n",
        "if(no_of_books == 0):\n",
        "    print(\"You read \", no_of_books, \" books and earned 0 points\")\n",
        "elif(no_of_books == 2 ):\n",
        "    print(\"You read \", no_of_books, \" books and earned 5 points\")\n",
        "elif(no_of_books == 4 ):\n",
        "    print(\"You read \", no_of_books, \" books and earned 15 points\")\n",
        "elif(no_of_books == 6 ):\n",
        "    print(\"You read \", no_of_books, \" books and earned 30 points\")\n",
        "elif(no_of_books == 8):\n",
        "    print(\"You read \", no_of_books, \" books and earned 60 points\")\n",
        "else:\n",
        "    print(\"Error: incorrect input\")"
      ]
    }
  ]
}