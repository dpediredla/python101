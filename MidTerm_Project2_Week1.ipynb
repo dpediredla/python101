{
  "nbformat": 4,
  "nbformat_minor": 0,
  "metadata": {
    "colab": {
      "provenance": [],
      "authorship_tag": "ABX9TyM0zjBMN5QKHYex3yO0HqQl",
      "include_colab_link": true
    },
    "kernelspec": {
      "name": "python3",
      "display_name": "Python 3"
    },
    "language_info": {
      "name": "python"
    }
  },
  "cells": [
    {
      "cell_type": "markdown",
      "metadata": {
        "id": "view-in-github",
        "colab_type": "text"
      },
      "source": [
        "<a href=\"https://colab.research.google.com/github/dpediredla/python101/blob/main/MidTerm_Project2_Week1.ipynb\" target=\"_parent\"><img src=\"https://colab.research.google.com/assets/colab-badge.svg\" alt=\"Open In Colab\"/></a>"
      ]
    },
    {
      "cell_type": "code",
      "execution_count": 45,
      "metadata": {
        "colab": {
          "base_uri": "https://localhost:8080/"
        },
        "id": "0s1LZrSnwRzu",
        "outputId": "cfa97640-f11e-4d46-bd69-e9fbd6de9a86"
      },
      "outputs": [
        {
          "output_type": "stream",
          "name": "stdout",
          "text": [
            "File opened\n",
            "read_gas_prices( ) runtime :  0.002996206283569336\n",
            "Year     Average Price\n",
            "1993 1.07\n",
            "1994 1.08\n",
            "1995 1.16\n",
            "1996 1.24\n",
            "1997 1.24\n",
            "1998 1.07\n",
            "1999 1.18\n",
            "2000 1.52\n",
            "2001 1.46\n",
            "2002 1.39\n",
            "2003 1.60\n",
            "2004 1.89\n",
            "2005 2.31\n",
            "2006 2.62\n",
            "2007 2.84\n",
            "2008 3.30\n",
            "2009 2.41\n",
            "2010 2.84\n",
            "2011 3.58\n",
            "2012 3.68\n",
            "2013 3.65\n",
            "get_average_price_per_year( ) runtime :  0.03180956840515137\n"
          ]
        }
      ],
      "source": [
        "#Mid Term Project2 Week1\n",
        "import time\n",
        "import timeit\n",
        "prices_master_list = []\n",
        "\n",
        "def read_gas_prices(file_name = \"gasprices.txt\"):\n",
        "  lines_list =[]\n",
        "  #read the whole text using readlines( ) method to get a list of lines\n",
        "  try:\n",
        "    fh = open(\"gasprices.txt\", \"r\") \n",
        "    print(\"File opened\")\n",
        "    lines_list = fh.readlines()\n",
        "    count = 1\n",
        "    #read each line and split the string to get date and the gas price\n",
        "\n",
        "    price_mini_list = []\n",
        "    for i in lines_list:\n",
        "        line_part1 = i.split('-')\n",
        "        month = line_part1[0]\n",
        "        day = line_part1[1]\n",
        "        line_part2 = line_part1[2]\n",
        "        line_part3 = line_part2.split(':')\n",
        "        year = line_part3[0]\n",
        "        gas_price = line_part3[1][:-1]\n",
        "\n",
        "        price_mini_list= [month,day,year,gas_price]\n",
        "        prices_master_list.append(price_mini_list)\n",
        "\n",
        "        count = count+1\n",
        "  except FileNotFoundError:\n",
        "    print(\"File does not exist\")\n",
        "\n",
        "\n",
        "def get_average_price_per_year():\n",
        "  count = [0]*21\n",
        "  sum = [0]*21\n",
        "  initYear = 1993\n",
        "  avg = []  \n",
        "  print(\"Year     Average Price\")\n",
        "  #Get the sum and the count and calculate the average\n",
        "  for year in range(21):\n",
        "      for x in prices_master_list:\n",
        "          count[int(x[2])-initYear]+=1\n",
        "          sum[int(x[2])-initYear]+=float(x[3])\n",
        "      avg.append(sum[year]/count[year])\n",
        "      print(year+initYear, format(avg[year],'.2f'))\n",
        "\n",
        "\n",
        "def get_average_price_per_month():\n",
        "  print()\n",
        "\n",
        "def get_highest_and_lowest_prices_per_year():\n",
        "  print()\n",
        "\n",
        "def generate_list_of_prices_lowest_to_highest():\n",
        "  print()\n",
        "\n",
        "def generate_list_of_prices_highest_to_lowest():\n",
        "  print()\n",
        "\n",
        "def print_runtime_summary():\n",
        "  start_time = time.time()  \n",
        "  read_gas_prices() \t\n",
        "  end_time = time.time()  \n",
        "  run_time_for_read_gas_prices = end_time - start_time\n",
        "  print('read_gas_prices( ) runtime : ', run_time_for_read_gas_prices)\n",
        "\n",
        "  # Capturing the rutime for get_average_price_per_year\n",
        "  start_time = time.time()  \n",
        "  get_average_price_per_year() \t\n",
        "  end_time = time.time()  \n",
        "  run_time_for_get_average_price_per_year = end_time - start_time\n",
        "  print('get_average_price_per_year( ) runtime : ', run_time_for_get_average_price_per_year)\n",
        "\n",
        "def main():\n",
        "  print_runtime_summary()\n",
        "\n",
        "# call the main function\n",
        "main()\n",
        "\n",
        "\n",
        "\n",
        "\n"
      ]
    }
  ]
}